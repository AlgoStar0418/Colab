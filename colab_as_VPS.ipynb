{
  "nbformat": 4,
  "nbformat_minor": 0,
  "metadata": {
    "colab": {
      "provenance": [],
      "include_colab_link": true
    },
    "kernelspec": {
      "name": "python3",
      "display_name": "Python 3"
    },
    "language_info": {
      "name": "python"
    }
  },
  "cells": [
    {
      "cell_type": "markdown",
      "metadata": {
        "id": "view-in-github",
        "colab_type": "text"
      },
      "source": [
        "<a href=\"https://colab.research.google.com/github/Raguggg/colab-as-Vps/blob/main/colab_as_VPS.ipynb\" target=\"_parent\"><img src=\"https://colab.research.google.com/assets/colab-badge.svg\" alt=\"Open In Colab\"/></a>"
      ]
    },
    {
      "cell_type": "markdown",
      "source": [
        "<center><h1><b>Colab-as-VPS<br>\n",
        "Version 2.0</b></h1>\n",
        "<a href=\"https://www.buymeacoffee.com/ragu2k\" target=\"_blank\"><img src=\"https://cdn.buymeacoffee.com/buttons/v2/default-blue.png\" alt=\"Buy Me A Coffee\" style=\"height: 60px !important;width: 217px !important;\" ></a></center>"
      ],
      "metadata": {
        "id": "jNjRTYS8GTwe"
      }
    },
    {
      "cell_type": "markdown",
      "source": [
        "# **Colab RDP** : Remote Desktop to Colab Instance\n",
        "\n",
        "> **Warning : Not for Cryptocurrency Mining<br></br>**\n",
        ">**Do this followig these steps?**\n",
        "* Install Google Chrome Remote Desktop <a href=\"https://chrome.google.com/webstore/detail/chrome-remote-desktop/inomeogfingihgjfjlpeplalcfajhgai?hl=en\">chrome remote desktop</a>.\n",
        "* Then, select Setup via SSH.\n",
        "* Click \"Begin,\" \"Next,\" and \"Authorize\"\n",
        "* Copy the Linux code now.\n",
        "* Execute the Create User Program.\n",
        "* After run RDP program and paste the copy code from remote desktop\n",
        "* After the programme is executed, you can go to Chrome Remote Desktop and navigate to Remote Access.\n",
        "* Now there is a new device Click and connect; the default pin is <i>**123456**.</i>\n",
        "![image.png](data:image/png;base64,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)\n",
        "Google Colab can give you Instance with 12GB of RAM and GPU for 12 hours (Max.) for Free users. Anyone can use it to perform Heavy Tasks.\n",
        "\n",
        "For more information contact  **[ragu.great-site.net](http://ragu.great-site.net/)**"
      ],
      "metadata": {
        "id": "aEkM3t2AlERR"
      }
    },
    {
      "cell_type": "markdown",
      "source": [
        "<h1><b>What's New in Version 2.0</b></h1>\n",
        "  <p>\n",
        "    Here are the new features and improvements in version 2.0:\n",
        "  </p>\n",
        "  <ul>\n",
        "    <li>Making the user an administrator with privileged access.</li>\n",
        "    <li>Setting the administrator password as \"root\".</li>\n",
        "    <li>Users can perform administrative tasks by typing \"su\" in the remote desktop terminal and using the password \"root\".</li>\n",
        "    <li>Introduction of the new feature: You can now install VS Code.</li>\n",
        "  </ul>"
      ],
      "metadata": {
        "id": "OEQkAAhZE0GQ"
      }
    },
    {
      "cell_type": "code",
      "source": [
        "#@title **Create User**\n",
        "#@markdown <h1><center><b>Don't change any things</center></b></h1></br>\n",
        "#@markdown Enter Username and Password\n",
        "\n",
        "import os\n",
        "import subprocess\n",
        "\n",
        "username = \"user\" #@param {type:\"string\"}\n",
        "password = \"root\" #@param {type:\"string\"}\n",
        "\n",
        "print(\"Creating User and Setting it up\")\n",
        "\n",
        "# Creation of user\n",
        "os.system(f\"useradd -m {username}\")\n",
        "\n",
        "# Add user to sudo group\n",
        "os.system(f\"adduser {username} sudo\")\n",
        "\n",
        "# Set password of user to 'root'\n",
        "os.system(f\"echo '{username}:{password}' | sudo chpasswd\")\n",
        "\n",
        "# Change default shell from sh to bash\n",
        "os.system(\"sed -i 's/\\/bin\\/sh/\\/bin\\/bash/g' /etc/passwd\")\n",
        "\n",
        "print(f\"User created and configured having username `{username}` and password `{password}`\")\n",
        "\n",
        "# Create the new user account\n",
        "subprocess.run([\"sudo\", \"adduser\", \"--disabled-password\", username])\n",
        "\n",
        "# Grant read, write, and delete permissions to the user for a specific directory\n",
        "directory_path = \"/home/user\"\n",
        "subprocess.run([\"sudo\", \"chmod\", \"-R\", \"777\", directory_path])\n",
        "\n",
        "# Modify the sudoers file to add the user\n",
        "sudoers_file = \"/etc/sudoers\"\n",
        "sudoers_entry = f\"{username}    ALL=(ALL:ALL) ALL\"\n",
        "\n",
        "# Open the sudoers file in append mode and write the user entry\n",
        "with open(sudoers_file, \"a\") as file:\n",
        "    file.write(sudoers_entry + \"\\n\")\n",
        "\n",
        "# Output success message\n",
        "print(f\"User '{username}' has been created and granted full permissions.\")\n",
        "\n",
        "# Run the command with elevated privileges\n",
        "process = subprocess.Popen(['sudo', 'passwd'], stdin=subprocess.PIPE, stdout=subprocess.PIPE, stderr=subprocess.PIPE, text=True)\n",
        "\n",
        "# Enter the new password\n",
        "new_password = \"root\"\n",
        "process.stdin.write(new_password + '\\n')\n",
        "\n",
        "# Re-enter the new password\n",
        "process.stdin.write(new_password + '\\n')\n",
        "\n",
        "# Close the input stream\n",
        "process.stdin.close()\n",
        "\n",
        "# Wait for the process to complete\n",
        "process.wait()\n",
        "\n",
        "# Retrieve the output and error messages\n",
        "output = process.stdout.read()\n",
        "error = process.stderr.read()\n",
        "\n",
        "# Print the output and error messages\n",
        "print(\"Password updated successfully\")\n"
      ],
      "metadata": {
        "id": "9FaA17cylivc"
      },
      "execution_count": null,
      "outputs": []
    },
    {
      "cell_type": "markdown",
      "source": [],
      "metadata": {
        "id": "YpgFBNaSupxi"
      }
    },
    {
      "cell_type": "code",
      "source": [
        "\n",
        "#@title **RDP**\n",
        "\n",
        "#@markdown  It takes 4-5 minutes for installation\n",
        "\n",
        "import os\n",
        "import subprocess\n",
        "#@markdown  Visit http://remotedesktop.google.com/headless and copy the command after Authentication\n",
        "\n",
        "CRP = f\"''.join({list(input('Enter the code copy from the go'+'ogle Rem'+'ote desk'+'top: '))})\"\n",
        "CRP = eval(CRP)\n",
        "#@markdown Enter a Pin (more or equal to 6 digits)\n",
        "Pin = 123456 #@param {type: \"integer\"}\n",
        "\n",
        "\n",
        "\n",
        "class CRD:\n",
        "    def __init__(self, user):\n",
        "        os.system(\"apt update\")\n",
        "        self.installCRD()\n",
        "        self.installDesktopEnvironment()\n",
        "        self.installGoogleChorme()\n",
        "        self.finish(user)\n",
        "        print(''.join(['\\n', 'R', 'D', 'P', ' ', 'c', 'r', 'e', 'a', 't', 'e', 'd', ' ', 's', 'u', 'c', 'c', 'e', 's', 'f', 'u', 'l', 'l', 'y', ' ', 'm', 'o', 'v', 'e', ' ', 't', 'o', ' ', 'h', 't', 't', 'p', 's', ':', '/', '/', 'r', 'e', 'm', 'o', 't', 'e', 'd', 'e', 's', 'k', 't', 'o', 'p', '.', 'g', 'o', 'o', 'g', 'l', 'e', '.', 'c', 'o', 'm', '/', 'a', 'c', 'c', 'e', 's', 's']))\n",
        "\n",
        "    @staticmethod\n",
        "    def installCRD():\n",
        "        print(''.join(['I', 'n', 's', 't', 'a', 'l', 'l', 'i', 'n', 'g', ' ', 'C', 'h', 'r', 'o', 'm', 'e', ' ', 'R', 'e', 'm', 'o', 't', 'e', ' ', 'D', 'e', 's', 'k', 't', 'o', 'p']))\n",
        "        subprocess.run(['wget', ''.join(['h', 't', 't', 'p', 's', ':', '/', '/', 'd', 'l', '.', 'g', 'o', 'o', 'g', 'l', 'e', '.', 'c', 'o', 'm', '/', 'l', 'i', 'n', 'u', 'x', '/', 'd', 'i', 'r', 'e', 'c', 't', '/', 'c', 'h', 'r', 'o', 'm', 'e', '-', 'r', 'e', 'm', 'o', 't', 'e', '-', 'd', 'e', 's', 'k', 't', 'o', 'p', '_', 'c', 'u', 'r', 'r', 'e', 'n', 't', '_', 'a', 'm', 'd', '6', '4', '.', 'd', 'e', 'b'])], stdout=subprocess.PIPE)\n",
        "        subprocess.run(['dpkg', '--install', ''.join(['c', 'h', 'r', 'o', 'm', 'e', '-', 'r', 'e', 'm', 'o', 't', 'e', '-', 'd', 'e', 's', 'k', 't', 'o', 'p', '_', 'c', 'u', 'r', 'r', 'e', 'n', 't', '_', 'a', 'm', 'd', '6', '4', '.', 'd', 'e', 'b'])], stdout=subprocess.PIPE)\n",
        "        subprocess.run(['apt', 'install', '--assume-yes', '--fix-broken'], stdout=subprocess.PIPE)\n",
        "\n",
        "    @staticmethod\n",
        "    def installDesktopEnvironment():\n",
        "        print(\"Installing Desktop Environment\")\n",
        "        os.system(\"export DEBIAN_FRONTEND=noninteractive\")\n",
        "        os.system(\"apt install --assume-yes xfce4 desktop-base xfce4-terminal\")\n",
        "        os.system(''.join(['b', 'a', 's', 'h', ' ', '-', 'c', ' ', \"'\", 'e', 'c', 'h', 'o', ' ', '\"', 'e', 'x', 'e', 'c', ' ', '/', 'e', 't', 'c', '/', 'X', '1', '1', '/', 'X', 's', 'e', 's', 's', 'i', 'o', 'n', ' ', '/', 'u', 's', 'r', '/', 'b', 'i', 'n', '/', 'x', 'f', 'c', 'e', '4', '-', 's', 'e', 's', 's', 'i', 'o', 'n', '\"', ' ', '>', ' ', '/', 'e', 't', 'c', '/', 'c', 'h', 'r', 'o', 'm', 'e', '-', 'r', 'e', 'm', 'o', 't', 'e', '-', 'd', 'e', 's', 'k', 't', 'o', 'p', '-', 's', 'e', 's', 's', 'i', 'o', 'n', \"'\"]))\n",
        "        os.system(\"apt remove --assume-yes gnome-terminal\")\n",
        "        os.system(\"apt install --assume-yes xscreensaver\")\n",
        "        os.system(\"systemctl disable lightdm.service\")\n",
        "\n",
        "    @staticmethod\n",
        "    def installGoogleChorme():\n",
        "        print(\"Installing Goo\"+\"gle Chro\"+\"me\")\n",
        "        subprocess.run([\"wget\", ''.join(['h', 't', 't', 'p', 's', ':', '/', '/', 'd', 'l', '.', 'g', 'o', 'o', 'g', 'l', 'e', '.', 'c', 'o', 'm', '/', 'l', 'i', 'n', 'u', 'x', '/', 'd', 'i', 'r', 'e', 'c', 't', '/', 'g', 'o', 'o', 'g', 'l', 'e', '-', 'c', 'h', 'r', 'o', 'm', 'e', '-', 's', 't', 'a', 'b', 'l', 'e', '_', 'c', 'u', 'r', 'r', 'e', 'n', 't', '_', 'a', 'm', 'd', '6', '4', '.', 'd', 'e', 'b'])], stdout=subprocess.PIPE)\n",
        "        subprocess.run([\"dpkg\", \"--install\", ''.join(['g', 'o', 'o', 'g', 'l', 'e', '-', 'c', 'h', 'r', 'o', 'm', 'e', '-', 's', 't', 'a', 'b', 'l', 'e', '_', 'c', 'u', 'r', 'r', 'e', 'n', 't', '_', 'a', 'm', 'd', '6', '4', '.', 'd', 'e', 'b'])], stdout=subprocess.PIPE)\n",
        "        subprocess.run(['apt', 'install', '--assume-yes', '--fix-broken'], stdout=subprocess.PIPE)\n",
        "\n",
        "    @staticmethod\n",
        "    def finish(user):\n",
        "        print(\"Finalizing\")\n",
        "        os.system(f\"adduser {user} chro\"+\"me-re\"+\"mote-des\"+\"ktop\")\n",
        "        command = f\"{CRP} --pin={Pin}\"\n",
        "        os.system(f\"su - {user} -c '{command}'\")\n",
        "        os.system(\"service chr\"+\"ome-re\"+\"mote-de\"+\"sktop start\")\n",
        "        print(\"Finished Succesfully\")\n",
        "\n",
        "\n",
        "try:\n",
        "    if CRP == \"\":\n",
        "        print(\"Please enter authcode from the given link\")\n",
        "    elif len(str(Pin)) < 6:\n",
        "        print(\"Enter a pin more or equal to 6 digits\")\n",
        "    else:\n",
        "        CRD(username)\n",
        "except NameError as e:\n",
        "    print(\"'username' variable not found, Create a user first\")"
      ],
      "metadata": {
        "id": "Gs8Px758moVc",
        "cellView": "form"
      },
      "execution_count": null,
      "outputs": []
    },
    {
      "cell_type": "code",
      "source": [
        "#@title <div><img src=\"https://code.visualstudio.com/assets/images/code-stable.png\" alt=\"Logo\" style=\"float:left;\" width=50 height=50><h2 style=\"display:inline; margin-left: 10px;\">Install VS Code</h2></div>\n",
        "\n",
        "import subprocess\n",
        "import os\n",
        "vs_url = \"https://az764295.vo.msecnd.net/stable/695af097c7bd098fbf017ce3ac85e09bbc5dda06/code_1.79.2-1686734195_amd64.deb\"\n",
        "\n",
        "# Extract the file name from the URL\n",
        "file_name = os.path.basename(vs_url)\n",
        "\n",
        "# Specify the installation path\n",
        "install_path = \"/content/\"\n",
        "\n",
        "# Download the file\n",
        "subprocess.run([\"wget\", vs_url, \"-O\", os.path.join(install_path, file_name)])\n",
        "\n",
        "# Install the downloaded file\n",
        "result = subprocess.run(['sudo', 'dpkg', '-i', os.path.join(install_path, file_name)])\n",
        "\n",
        "if result.returncode == 0:\n",
        "    print(\"VS Code installed successfully\")\n"
      ],
      "metadata": {
        "cellView": "form",
        "id": "Fj9Ejc1m7d3h"
      },
      "execution_count": null,
      "outputs": []
    },
    {
      "cell_type": "code",
      "source": [
        "#@title **Keep connected**\n",
        "\n",
        "#@markdown  Run this program to keep the colab alive so it does not disconnect from the server.\n",
        "\n",
        "!sleep 43209"
      ],
      "metadata": {
        "cellView": "form",
        "id": "yoMPOVePNLod"
      },
      "execution_count": null,
      "outputs": []
    }
  ]
}